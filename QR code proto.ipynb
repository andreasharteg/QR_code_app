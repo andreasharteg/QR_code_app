{
 "cells": [
  {
   "cell_type": "markdown",
   "metadata": {},
   "source": [
    "# QR-code App\n",
    "<b>Objective:</b> Web or GUI-based QR-Code generator.<br>\n",
    "<br>\n",
    "<b>Requirements:</b><br>\n",
    "- Generate at least 3 kinds of QR-Codes (e.g. web-link, WiFi configuration, VCard,\n",
    "- ICS appointment)\n",
    "- Form for data input\n",
    "- Save form data to valid file\n",
    "- Load form data from valid file\n",
    "- The generated QR-Code can be saved or downloaded"
   ]
  },
  {
   "cell_type": "markdown",
   "metadata": {},
   "source": [
    "## Contents:\n",
    "Prototyping:\n",
    "1. create Qr-code\n",
    "- save Qr-code in png and svg (maybe)\n",
    "- read Qr-code\n",
    "- form for data input\n",
    "- save data to valid file\n",
    "- load data from valid file\n",
    "- download Qr-code <br>\n",
    "\n",
    "Implementation: \n",
    "- unit testing/integration\n",
    "\n",
    "<b>All dependencies:</b>\n",
    "- pip: qrcode (creating Qr-code)\n",
    "- brew: zbar  (reading bar codes)\n",
    "- pip: pyzbar (reading bar codes python impl)\n",
    "- pip: pypng  (bindings between zbar and pillow) \n",
    "- pip: Pillow (processing and creating images)\n",
    "- pip: vobject(creating and parsing VCards)"
   ]
  },
  {
   "cell_type": "markdown",
   "metadata": {},
   "source": [
    "1: <b>create Qr-code:</b>"
   ]
  },
  {
   "cell_type": "code",
   "execution_count": 1,
   "metadata": {},
   "outputs": [],
   "source": [
    "import qrcode"
   ]
  },
  {
   "cell_type": "code",
   "execution_count": 9,
   "metadata": {},
   "outputs": [
    {
     "data": {
      "image/png": "[encoded data removed]",
      "text/plain": [
       "<qrcode.image.pil.PilImage at 0x106171048>"
      ]
     },
     "execution_count": 9,
     "metadata": {},
     "output_type": "execute_result"
    }
   ],
   "source": [
    "# simple create:\n",
    "def createQrSimple(data: str) -> qrcode.image.pil.PilImage:\n",
    "    import qrcode\n",
    "    return qrcode.make(data)\n",
    "\n",
    "img = qrcode.make('Some data here')\n",
    "img"
   ]
  },
  {
   "cell_type": "code",
   "execution_count": 27,
   "metadata": {},
   "outputs": [
    {
     "data": {
      "image/png": "[encoded data removed]",
      "text/plain": [
       "<qrcode.image.pil.PilImage at 0x10a2e1470>"
      ]
     },
     "execution_count": 27,
     "metadata": {},
     "output_type": "execute_result"
    }
   ],
   "source": [
    "# advanced create:\n",
    "qr = qrcode.QRCode(\n",
    "    # Note: version number changes automatically to allow more data\n",
    "    version=1,\n",
    "    error_correction=qrcode.constants.ERROR_CORRECT_L,\n",
    "    box_size=10,\n",
    "    border=4,\n",
    ")\n",
    "qr.add_data('Some dato')\n",
    "qr.make(fit=True)\n",
    "\n",
    "img = qr.make_image(fill_color=\"black\", back_color=\"white\")\n",
    "img"
   ]
  },
  {
   "cell_type": "markdown",
   "metadata": {},
   "source": [
    "2: <b>save Qr-code in png:"
   ]
  },
  {
   "cell_type": "code",
   "execution_count": 40,
   "metadata": {},
   "outputs": [],
   "source": [
    "# save Qr-code image as png:\n",
    "img.save(\"./data/qr-code.png\", \"png\")"
   ]
  },
  {
   "cell_type": "markdown",
   "metadata": {},
   "source": [
    "3: <b>read Qr-code:</b><br>"
   ]
  },
  {
   "cell_type": "code",
   "execution_count": 23,
   "metadata": {},
   "outputs": [
    {
     "name": "stdout",
     "output_type": "stream",
     "text": [
      "[Decoded(data=b'Some data', type='QRCODE', rect=Rect(left=40, top=40, width=210, height=210), polygon=[Point(x=40, y=40), Point(x=40, y=250), Point(x=250, y=250), Point(x=250, y=40)])]\n",
      "b'Some data'\n"
     ]
    }
   ],
   "source": [
    "from PIL import Image\n",
    "from pyzbar.pyzbar import decode\n",
    "data = decode(Image.open(\"./data/qr-code.png\"))\n",
    "print(data)\n",
    "print(data[0][0])"
   ]
  },
  {
   "cell_type": "markdown",
   "metadata": {},
   "source": [
    "4: <b>form for data input</b>\n",
    "<br>see https://github.com/zxing/zxing/wiki/Barcode-Contents#wifi-network-config-android for data formats\n",
    "<br>Data forms:\n",
    "- web link\n",
    "- WiFi configuration\n",
    "- VCard"
   ]
  },
  {
   "cell_type": "code",
   "execution_count": 13,
   "metadata": {},
   "outputs": [
    {
     "name": "stdout",
     "output_type": "stream",
     "text": [
      "Enter web link:\n",
      "\n"
     ]
    }
   ],
   "source": [
    "# web link:\n",
    "print(\"Enter web link:\")\n",
    "web_link = input()"
   ]
  },
  {
   "cell_type": "code",
   "execution_count": 28,
   "metadata": {},
   "outputs": [
    {
     "name": "stdout",
     "output_type": "stream",
     "text": [
      "Enter SSID:\n",
      "sdf\n",
      "Enter encryption type ('WPA', 'WEP' or 'none' if there is no password):\n",
      "none\n",
      "Is network hidden? (y/n)\n",
      "y\n"
     ]
    },
    {
     "data": {
      "text/plain": [
       "'WIFI:T:nopass;S:sdf;;H:true;'"
      ]
     },
     "execution_count": 28,
     "metadata": {},
     "output_type": "execute_result"
    }
   ],
   "source": [
    "# WiFi configuration:\n",
    "# format: WIFI:T:WPA;S:mynetwork;P:mypass;;\n",
    "# T = authentication type (example WPA)\n",
    "# S = network SSID\n",
    "# P = password key\n",
    "# H = true if network SSID is hidden (optional)\n",
    "\n",
    "print(\"Enter SSID:\")\n",
    "ssid = 'S:' + input()\n",
    "\n",
    "get_auth_type = {\n",
    "    'wpa': 'WPA',\n",
    "    'wep': 'WEP',\n",
    "    'none': 'nopass'\n",
    "}\n",
    "print(\"Enter encryption type ('WPA', 'WEP' or 'none' if there is no password):\")\n",
    "auth_type = 'T:' + get_auth_type[input().lower()]\n",
    "\n",
    "if 'nopass' not in auth_type:\n",
    "    print(\"Enter password:\")\n",
    "    key = 'P:' + input() \n",
    "else:\n",
    "    key = ''\n",
    "\n",
    "print(\"Is network hidden? (y/n)\")\n",
    "if (input() == 'y'):\n",
    "    hidden = 'H:true'\n",
    "else:\n",
    "    hidden = ''\n",
    "\n",
    "\n",
    "wifi_config = 'WIFI:' + auth_type + ';' + ssid + ';' + key + ';' + hidden + ';'\n",
    "wifi_config"
   ]
  },
  {
   "cell_type": "code",
   "execution_count": 54,
   "metadata": {},
   "outputs": [
    {
     "name": "stdout",
     "output_type": "stream",
     "text": [
      "Enter full name:\n",
      "sdf\n"
     ]
    }
   ],
   "source": [
    "#VCard:\n",
    "import vobject\n",
    "# vobject documentation: http://eventable.github.io/vobject/\n",
    "v = vobject.vCard()\n",
    "\n",
    "print(\"Enter full name:\")\n",
    "v.add('fn').value = input()\n",
    "if ' ' in v.fn.value:\n",
    "    print(v.fn.value)"
   ]
  },
  {
   "cell_type": "code",
   "execution_count": 40,
   "metadata": {},
   "outputs": [
    {
     "name": "stdout",
     "output_type": "stream",
     "text": [
      " VCARD\n",
      "    VERSION: 3.0\n",
      "    EMAIL: jeffrey@osafoundation.org\n",
      "    params for  EMAIL:\n",
      "       TYPE ['INTERNET']\n",
      "    FN: Jeffrey Harris\n",
      "    N:  Jeffrey  Harris \n",
      "    TEL: (111) 555-1212\n",
      "    params for  TEL:\n",
      "       TYPE ['WORK', 'VOICE']\n",
      "    TEL: (404) 555-1212\n",
      "    params for  TEL:\n",
      "       TYPE ['HOME', 'VOICE']\n"
     ]
    }
   ],
   "source": [
    "s = \"\"\"\n",
    "BEGIN:VCARD\n",
    "VERSION:3.0\n",
    "EMAIL;TYPE=INTERNET:jeffrey@osafoundation.org\n",
    "FN:Jeffrey Harris\n",
    "N:Harris;Jeffrey;;;\n",
    "TEL;TYPE=WORK,VOICE:(111) 555-1212\n",
    "TEL;TYPE=HOME,VOICE:(404) 555-1212\n",
    "END:VCARD\n",
    "\"\"\"\n",
    "v = vobject.readOne(s)\n",
    "v.prettyPrint()"
   ]
  },
  {
   "cell_type": "code",
   "execution_count": null,
   "metadata": {},
   "outputs": [],
   "source": []
  }
 ],
 "metadata": {
  "kernelspec": {
   "display_name": "Python 3",
   "language": "python",
   "name": "python3"
  },
  "language_info": {
   "codemirror_mode": {
    "name": "ipython",
    "version": 3
   },
   "file_extension": ".py",
   "mimetype": "text/x-python",
   "name": "python",
   "nbconvert_exporter": "python",
   "pygments_lexer": "ipython3",
   "version": "3.7.1"
  }
 },
 "nbformat": 4,
 "nbformat_minor": 2
}
